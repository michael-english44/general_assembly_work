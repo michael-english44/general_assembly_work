{
 "cells": [
  {
   "cell_type": "markdown",
   "metadata": {
    "slideshow": {
     "slide_type": "notes"
    }
   },
   "source": [
    "> **Jupyter slideshow:** This notebook can be displayed as slides. To view it as a slideshow in your browser, type the following in the console:\n",
    "\n",
    "\n",
    "> `> ipython nbconvert [this_notebook.ipynb] --to slides --post serve`\n",
    "\n",
    "\n",
    "> To toggle off the slideshow cell formatting, click the `CellToolbar` button, then `View --> Cell Toolbar --> None`."
   ]
  },
  {
   "cell_type": "markdown",
   "metadata": {
    "slideshow": {
     "slide_type": "slide"
    }
   },
   "source": [
    "<img src=\"http://imgur.com/1ZcRyrc.png\" style=\"float: left; margin: 20px; height: 55px\">\n",
    "\n",
    "## Principles of Data Visualization With Python\n",
    "\n",
    "_Author:_ Dave Yerrington (San Francisco)\n",
    "\n",
    "---\n",
    "\n",
    "\n",
    "### Learning Objectives\n",
    "*After this lesson, you will be able to:*\n",
    "- Describe why data visualization is important.\n",
    "- Identify the characteristics of a great data visualization.\n",
    "- Describe when you would use a bar chart, pie chart, scatter plot, and histogram.\n"
   ]
  },
  {
   "cell_type": "markdown",
   "metadata": {
    "slideshow": {
     "slide_type": "slide"
    }
   },
   "source": [
    "### Lesson Guide\n",
    "\n",
    "- [Why Use Data Visualization?](#why_data_viz)\n",
    "- [Anscombe's Quartet](#anscombe)\n",
    "- [Attributes of Good Visualization](#viz_attr)\n",
    "- [Choosing the Right Chart](#chart_choice)\n",
    "- [Visualization Programming Libraries](#visualization_libraries)\n",
    "- [Independent Research](#independent_research)\n",
    "- [Conclusion](#conclusion)\n"
   ]
  },
  {
   "cell_type": "markdown",
   "metadata": {
    "slideshow": {
     "slide_type": "slide"
    }
   },
   "source": [
    "<a id='why_data_viz'></a>\n",
    "\n",
    "### Discussion: Why Use Data Visualization?\n",
    "\n",
    "---\n",
    "\n",
    "In a small group, discuss some of the ways you have used or enjoyed data visualization. Why do you think data visualization is useful? Why is it important?\n"
   ]
  },
  {
   "cell_type": "markdown",
   "metadata": {
    "slideshow": {
     "slide_type": "slide"
    }
   },
   "source": [
    "### Why Use Data Visualization?\n",
    "\n",
    "---\n",
    "\n",
    "Because of the way the human brain processes information, charts or graphs that visualize large amounts of complex data are easier to understand than spreadsheets or reports. \n",
    "\n",
    "Data visualization is a quick, easy way to convey concepts in a universal  manner — and you can experiment with different scenarios by making slight adjustments.\n",
    "\n",
    "Here's a helpful overview of the importance of data visualization:\n",
    "\n",
    "[SAS: Data Visualization](http://www.sas.com/en_us/insights/big-data/data-visualization.html)"
   ]
  },
  {
   "cell_type": "code",
   "execution_count": 4,
   "metadata": {
    "scrolled": true,
    "slideshow": {
     "slide_type": "slide"
    }
   },
   "outputs": [
    {
     "data": {
      "text/html": [
       "<div>\n",
       "<style scoped>\n",
       "    .dataframe tbody tr th:only-of-type {\n",
       "        vertical-align: middle;\n",
       "    }\n",
       "\n",
       "    .dataframe tbody tr th {\n",
       "        vertical-align: top;\n",
       "    }\n",
       "\n",
       "    .dataframe thead th {\n",
       "        text-align: right;\n",
       "    }\n",
       "</style>\n",
       "<table border=\"1\" class=\"dataframe\">\n",
       "  <thead>\n",
       "    <tr style=\"text-align: right;\">\n",
       "      <th></th>\n",
       "      <th>volume_sold</th>\n",
       "      <th>2015_margin</th>\n",
       "      <th>2015_q1_sales</th>\n",
       "      <th>2016_q1_sales</th>\n",
       "    </tr>\n",
       "  </thead>\n",
       "  <tbody>\n",
       "    <tr>\n",
       "      <th>0</th>\n",
       "      <td>18.420760</td>\n",
       "      <td>93.802281</td>\n",
       "      <td>337166.53</td>\n",
       "      <td>337804.05</td>\n",
       "    </tr>\n",
       "    <tr>\n",
       "      <th>1</th>\n",
       "      <td>4.776510</td>\n",
       "      <td>21.082425</td>\n",
       "      <td>22351.86</td>\n",
       "      <td>21736.63</td>\n",
       "    </tr>\n",
       "    <tr>\n",
       "      <th>2</th>\n",
       "      <td>16.602401</td>\n",
       "      <td>93.612494</td>\n",
       "      <td>277764.46</td>\n",
       "      <td>306942.27</td>\n",
       "    </tr>\n",
       "    <tr>\n",
       "      <th>3</th>\n",
       "      <td>4.296111</td>\n",
       "      <td>16.824704</td>\n",
       "      <td>16805.11</td>\n",
       "      <td>9307.75</td>\n",
       "    </tr>\n",
       "    <tr>\n",
       "      <th>4</th>\n",
       "      <td>8.156023</td>\n",
       "      <td>35.011457</td>\n",
       "      <td>54411.42</td>\n",
       "      <td>58939.90</td>\n",
       "    </tr>\n",
       "  </tbody>\n",
       "</table>\n",
       "</div>"
      ],
      "text/plain": [
       "   volume_sold  2015_margin  2015_q1_sales  2016_q1_sales\n",
       "0    18.420760    93.802281      337166.53      337804.05\n",
       "1     4.776510    21.082425       22351.86       21736.63\n",
       "2    16.602401    93.612494      277764.46      306942.27\n",
       "3     4.296111    16.824704       16805.11        9307.75\n",
       "4     8.156023    35.011457       54411.42       58939.90"
      ]
     },
     "execution_count": 4,
     "metadata": {},
     "output_type": "execute_result"
    }
   ],
   "source": [
    "# Check out my awesome text-based data viz below.\n",
    "import pandas as pd\n",
    "import matplotlib.pyplot as plt\n",
    "import seaborn as sns\n",
    "\n",
    "df = pd.read_csv(\"./data/sales_info.csv\")\n",
    "df.head()"
   ]
  },
  {
   "cell_type": "code",
   "execution_count": 6,
   "metadata": {
    "scrolled": true
   },
   "outputs": [
    {
     "data": {
      "text/plain": [
       "<seaborn.axisgrid.PairGrid at 0x1a143014d0>"
      ]
     },
     "execution_count": 6,
     "metadata": {},
     "output_type": "execute_result"
    },
    {
     "data": {
      "image/png": "[encoded data removed]",
      "text/plain": [
       "<Figure size 720x720 with 20 Axes>"
      ]
     },
     "metadata": {
      "needs_background": "light"
     },
     "output_type": "display_data"
    }
   ],
   "source": [
    "sns.pairplot(df)"
   ]
  },
  {
   "cell_type": "code",
   "execution_count": null,
   "metadata": {},
   "outputs": [],
   "source": []
  },
  {
   "cell_type": "markdown",
   "metadata": {
    "slideshow": {
     "slide_type": "fragment"
    }
   },
   "source": [
    "How useful are our basic metrics of median, mean, and mode? What happens if they're the same?"
   ]
  },
  {
   "cell_type": "code",
   "execution_count": 8,
   "metadata": {},
   "outputs": [
    {
     "data": {
      "text/html": [
       "<div>\n",
       "<style scoped>\n",
       "    .dataframe tbody tr th:only-of-type {\n",
       "        vertical-align: middle;\n",
       "    }\n",
       "\n",
       "    .dataframe tbody tr th {\n",
       "        vertical-align: top;\n",
       "    }\n",
       "\n",
       "    .dataframe thead th {\n",
       "        text-align: right;\n",
       "    }\n",
       "</style>\n",
       "<table border=\"1\" class=\"dataframe\">\n",
       "  <thead>\n",
       "    <tr style=\"text-align: right;\">\n",
       "      <th></th>\n",
       "      <th>volume_sold</th>\n",
       "      <th>2015_margin</th>\n",
       "      <th>2015_q1_sales</th>\n",
       "      <th>2016_q1_sales</th>\n",
       "    </tr>\n",
       "  </thead>\n",
       "  <tbody>\n",
       "    <tr>\n",
       "      <th>count</th>\n",
       "      <td>200.000000</td>\n",
       "      <td>200.000000</td>\n",
       "      <td>2.000000e+02</td>\n",
       "      <td>2.000000e+02</td>\n",
       "    </tr>\n",
       "    <tr>\n",
       "      <th>mean</th>\n",
       "      <td>10.018684</td>\n",
       "      <td>46.858895</td>\n",
       "      <td>1.546317e+05</td>\n",
       "      <td>1.546992e+05</td>\n",
       "    </tr>\n",
       "    <tr>\n",
       "      <th>std</th>\n",
       "      <td>9.195256</td>\n",
       "      <td>45.013249</td>\n",
       "      <td>2.183315e+05</td>\n",
       "      <td>2.176610e+05</td>\n",
       "    </tr>\n",
       "    <tr>\n",
       "      <th>min</th>\n",
       "      <td>2.794631</td>\n",
       "      <td>11.996118</td>\n",
       "      <td>4.151930e+03</td>\n",
       "      <td>3.536140e+03</td>\n",
       "    </tr>\n",
       "    <tr>\n",
       "      <th>25%</th>\n",
       "      <td>6.274402</td>\n",
       "      <td>26.862036</td>\n",
       "      <td>4.554442e+04</td>\n",
       "      <td>3.881877e+04</td>\n",
       "    </tr>\n",
       "    <tr>\n",
       "      <th>50%</th>\n",
       "      <td>8.166346</td>\n",
       "      <td>36.562144</td>\n",
       "      <td>1.041994e+05</td>\n",
       "      <td>1.032072e+05</td>\n",
       "    </tr>\n",
       "    <tr>\n",
       "      <th>75%</th>\n",
       "      <td>10.406605</td>\n",
       "      <td>48.176982</td>\n",
       "      <td>2.016707e+05</td>\n",
       "      <td>2.042313e+05</td>\n",
       "    </tr>\n",
       "    <tr>\n",
       "      <th>max</th>\n",
       "      <td>76.203692</td>\n",
       "      <td>367.225653</td>\n",
       "      <td>2.337324e+06</td>\n",
       "      <td>2.443253e+06</td>\n",
       "    </tr>\n",
       "  </tbody>\n",
       "</table>\n",
       "</div>"
      ],
      "text/plain": [
       "       volume_sold  2015_margin  2015_q1_sales  2016_q1_sales\n",
       "count   200.000000   200.000000   2.000000e+02   2.000000e+02\n",
       "mean     10.018684    46.858895   1.546317e+05   1.546992e+05\n",
       "std       9.195256    45.013249   2.183315e+05   2.176610e+05\n",
       "min       2.794631    11.996118   4.151930e+03   3.536140e+03\n",
       "25%       6.274402    26.862036   4.554442e+04   3.881877e+04\n",
       "50%       8.166346    36.562144   1.041994e+05   1.032072e+05\n",
       "75%      10.406605    48.176982   2.016707e+05   2.042313e+05\n",
       "max      76.203692   367.225653   2.337324e+06   2.443253e+06"
      ]
     },
     "execution_count": 8,
     "metadata": {},
     "output_type": "execute_result"
    }
   ],
   "source": [
    "df.describe()"
   ]
  },
  {
   "cell_type": "code",
   "execution_count": null,
   "metadata": {},
   "outputs": [],
   "source": []
  },
  {
   "cell_type": "markdown",
   "metadata": {
    "slideshow": {
     "slide_type": "slide"
    }
   },
   "source": [
    "<a id='anscombe'></a>\n",
    "\n",
    "### Anscombe's Quartet\n",
    "\n",
    "---\n",
    "\n",
    "Below are the summary statistics for four plots. What do you think the visualization for each plot would look like? \n",
    "\n",
    "![summary statistics for four different plots](./assets/images/anscombs%20quartet.png)"
   ]
  },
  {
   "cell_type": "markdown",
   "metadata": {
    "slideshow": {
     "slide_type": "slide"
    }
   },
   "source": [
    "You can probably already guess what the answer is: Although the four plots have the same summary statistics, \n",
    "they are actually completely different. This can be seen when we visualize them together. \n",
    "\n",
    "![anscomb's quartet](./assets/images/anscombs%20quartert%20visualization.png)"
   ]
  },
  {
   "cell_type": "markdown",
   "metadata": {
    "slideshow": {
     "slide_type": "slide"
    }
   },
   "source": [
    "These descriptive statistics come from a data set constructed in 1973 by the statistician Francis Anscombe. It is a classic demonstration of the importance of data visualization.\n",
    "\n",
    "- It highlights the failures of summary statistics.\n",
    "- It shows the effect of outliers on statistical properties.\n",
    "- Anscombe's intention was to attack the impression among statisticians that \"numerical calculations are exact, but graphs are rough.\""
   ]
  },
  {
   "cell_type": "markdown",
   "metadata": {
    "slideshow": {
     "slide_type": "slide"
    }
   },
   "source": [
    "<a id='viz_attr'></a>\n",
    "\n",
    "### Attributes of Good Visualization\n",
    "\n",
    "---\n",
    "\n",
    "What are some attributes you think are important for data visualizations to have? \n",
    "\n",
    "Let's take a look at what Jeffrey Shaffer, who teaches data visualization at the University of Cincinnati, thinks:\n",
    "\n",
    "![](./assets/images/data%20attributes.png)\n",
    "\n",
    "Interestingly, some attributes have more of an effect on our brains than others. The ones we tend to focus on most are position, then color, then size."
   ]
  },
  {
   "cell_type": "markdown",
   "metadata": {
    "slideshow": {
     "slide_type": "slide"
    }
   },
   "source": [
    "Let's take a look at three visualizations. Which one catches your attention most? Why?\n",
    "\n",
    "![](./assets/images/mixed%20shapes.png)\n",
    "\n",
    "![](./assets/images/squares%20and%20circles.png)\n",
    "\n",
    "![](./assets/images/color.png)\n"
   ]
  },
  {
   "cell_type": "markdown",
   "metadata": {
    "slideshow": {
     "slide_type": "slide"
    }
   },
   "source": [
    "Let's focus on color for a moment. Generally, in data visualizations, you’re going to use color in one of three ways: sequential, divergent, or categorical. \n",
    "\n",
    "Sequential colors are used to show values ordered from low to high.\n",
    "\n",
    "![sequential](./assets/images/sequential.png)"
   ]
  },
  {
   "cell_type": "markdown",
   "metadata": {
    "collapsed": true,
    "slideshow": {
     "slide_type": "slide"
    }
   },
   "source": [
    "Divergent colors are used to show ordered values that have a critical midpoint, like an average or zero.\n",
    "\n",
    "![divergent](./assets/images/divergent.png)"
   ]
  },
  {
   "cell_type": "markdown",
   "metadata": {
    "collapsed": true,
    "slideshow": {
     "slide_type": "slide"
    }
   },
   "source": [
    "Categorical colors are used to distinguish data that falls into distinct groups.\n",
    "\n",
    "![categorical](./assets/images/categorical.png)\n",
    "\n",
    "[Images via MediaShift](http://mediashift.org/2016/02/checklist-does-your-data-visualization-say-what-you-think-it-says/)"
   ]
  },
  {
   "cell_type": "markdown",
   "metadata": {
    "slideshow": {
     "slide_type": "slide"
    }
   },
   "source": [
    "<a id='chart_choice'></a>\n",
    "\n",
    "### Choosing the Right Chart\n",
    "\n",
    "---\n",
    "\n",
    "\n",
    "In addition to considering data visualization attributes, you should also carefully choose the type of chart or graph you'll use. Let's look at a few commonly used charts and graphs.\n",
    "\n",
    "![](http://www.comicsenglish.com/wp-content/uploads/2013/06/xkcd-stove_ownership.png)\n"
   ]
  },
  {
   "cell_type": "markdown",
   "metadata": {
    "slideshow": {
     "slide_type": "slide"
    }
   },
   "source": [
    "### Bar Charts\n",
    "\n",
    "Bar charts are one of the most common ways of visualizing data. Why? Because they make it easy to compare information, revealing highs and lows quickly. Bar charts are most effective when you have numerical data that splits neatly into different categories.\n",
    "\n",
    "![](./assets/images/bar%20chart.png)"
   ]
  },
  {
   "cell_type": "markdown",
   "metadata": {
    "slideshow": {
     "slide_type": "slide"
    }
   },
   "source": [
    "### Pie Charts\n",
    "\n",
    "Pie charts are the most commonly misused chart type. They should be only used to show relative proportions or percentages of information. \n",
    "\n",
    "If you want to compare data, leave it to bars or stacked bars. If your viewer has to work to translate pie wedges into relevant data or compare pie charts to one another, the key points you're trying to convey might go unnoticed. \n",
    "\n",
    "![](./assets/images/pie%20chart.jpg)\n",
    "[Pie chart via TV.com](http://www.tv.com/news/learning-about-the-2013-pilot-season-through-pie-charts-136243394841/)"
   ]
  },
  {
   "cell_type": "markdown",
   "metadata": {
    "slideshow": {
     "slide_type": "slide"
    }
   },
   "source": [
    "### The Best Use of a Pie Chart\n",
    "\n",
    "![](http://i.imgur.com/uhTf6Ek.jpg)"
   ]
  },
  {
   "cell_type": "markdown",
   "metadata": {
    "slideshow": {
     "slide_type": "slide"
    }
   },
   "source": [
    "### Scatter Plots\n",
    "\n",
    "Scatter plots are a great way to give you a sense of trends, concentrations, and outliers. This will provide a clear idea of what you may want to investigate further. \n",
    "\n",
    "![](./assets/images/scatter%20plot.png)\n",
    "[Scatter plot via Wikibooks](https://en.wikibooks.org/wiki/Statistics/Displaying_Data/Scatter_Graphs)"
   ]
  },
  {
   "cell_type": "markdown",
   "metadata": {
    "slideshow": {
     "slide_type": "slide"
    }
   },
   "source": [
    "### Histograms \n",
    "\n",
    "Histograms are useful when you want to see how your data are distributed across groups.\n",
    "\n",
    "![](./assets/images/histogram%20chart.png)\n",
    "\n",
    "This is not an all-inclusive list of chart and graph types, but the point is to remember that you have options. You should consider which one is most appropriate for representing a particular data set. \n",
    "\n",
    "[Charts and graphs via Tableau](https://drive.google.com/file/d/0Bx2SHQGVqWasT1l4NWtLclJJcWM/view)"
   ]
  },
  {
   "cell_type": "markdown",
   "metadata": {
    "slideshow": {
     "slide_type": "slide"
    }
   },
   "source": [
    "<a id='visualization_libraries'></a>\n",
    "\n",
    "### Visualization Programming Libraries\n",
    "\n",
    "In this lesson, we will use the Python libraries [Matplotlib](https://matplotlib.org/) (Python plotting) and [Seaborn](https://seaborn.pydata.org/) (statistical data visualization).\n",
    "\n",
    "Many other Python libraries exist for making visualizations. Some of the most popular include:\n",
    "\n",
    "- **[Bokeh](http://bokeh.pydata.org/en/latest/):** Python visualization library that targets the web browser (e.g., in Jupyter). Makes interactive plots, dashboards, data applications, etc.\n",
    "\n",
    "- **[Graphviz](http://graphviz.readthedocs.io/en/stable/manual.html):** Popular visualization library for graph data structures (e.g., edges, vertices, etc). Has Python extensions.\n",
    "\n",
    "- **[Basemap](http://matplotlib.org/basemap/):** Python Matplotlib extension for drawing static maps. There are many other Python libraries for plotting geographic data, including ones that might be easier to use, but many are not actively developed.\n",
    "\n",
    "One of the most popular libraries for interactive visualizations in the web browser is D3. Because web browsers only natively run JavaScript, D3 requires knowledge of JavaScript:\n",
    "\n",
    "- **[D3.js](https://d3js.org/):** JavaScript library for interactive web visualizations [D3.js](https://d3js.org/) | [Examples](https://github.com/mbostock/d3/wiki/Gallery)\n"
   ]
  },
  {
   "cell_type": "markdown",
   "metadata": {
    "slideshow": {
     "slide_type": "slide"
    }
   },
   "source": [
    "### Other Visualization Tools\n",
    "\n",
    "Although this course emphasizes a Python approach to data science, a variety of non-programming tools are also used in industry. Often, these tools can be applied much more quickly than creating a custom Python solution. For example:\n",
    "\n",
    "- **Excel:** For quick data cleaning and simple graphs\n",
    "- **Power BI:** A suite of business analytics tools\n",
    "- **Tableau:** Business intelligence and analytics software\n",
    "- **Periscope Data:** Data analysis platform\n",
    "- **Plotly:** Create charts and dashboards\n"
   ]
  },
  {
   "cell_type": "markdown",
   "metadata": {
    "slideshow": {
     "slide_type": "slide"
    }
   },
   "source": [
    "<a id='independent_research'></a>\n",
    "\n",
    "### Independent Research: Python Plotting With Pandas and Seaborn\n",
    "\n",
    "---\n",
    "\n",
    "Open up the [independent research notebook](./python-data-viz-lab.ipynb) to explore plotting the sales data with Python. \n"
   ]
  },
  {
   "cell_type": "markdown",
   "metadata": {
    "slideshow": {
     "slide_type": "slide"
    }
   },
   "source": [
    "<a id='conclusion'></a>\n",
    "\n",
    "### Things to consider\n",
    "\n",
    "---\n",
    "\n",
    "- Why is data visualization so important? \n",
    "- What are some considerations to keep in mind when creating a visualization? \n",
    "- Describe when you would use the following types of charts or graphs:\n",
    "    - Bar chart\n",
    "    - Pie chart\n",
    "    - Scatter plot\n",
    "    - Histogram "
   ]
  },
  {
   "cell_type": "code",
   "execution_count": null,
   "metadata": {
    "collapsed": true
   },
   "outputs": [],
   "source": []
  }
 ],
 "metadata": {
  "anaconda-cloud": {},
  "celltoolbar": "Slideshow",
  "kernelspec": {
   "display_name": "Python 3",
   "language": "python",
   "name": "python3"
  },
  "language_info": {
   "codemirror_mode": {
    "name": "ipython",
    "version": 3
   },
   "file_extension": ".py",
   "mimetype": "text/x-python",
   "name": "python",
   "nbconvert_exporter": "python",
   "pygments_lexer": "ipython3",
   "version": "3.7.1"
  }
 },
 "nbformat": 4,
 "nbformat_minor": 1
}
